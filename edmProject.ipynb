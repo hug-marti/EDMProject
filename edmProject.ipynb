{
 "cells": [
  {
   "cell_type": "code",
   "execution_count": 1,
   "metadata": {
    "collapsed": true
   },
   "outputs": [],
   "source": [
    "from PIL import Image"
   ]
  },
  {
   "cell_type": "code",
   "execution_count": 2,
   "outputs": [],
   "source": [
    "#read in image\n",
    "user_input1_pic1 = Image.open('Pictures\\\\CDIConfigBatchPrepSettings.png')\n",
    "user_input5_pic1 = Image.open('Pictures\\\\ui5_pic1.png')\n",
    "user_input5_pic2 = Image.open('Pictures\\\\user_input5_pic2.png')\n",
    "user_input6_pic1 = Image.open('Pictures\\\\user_input6_pic1.png')\n",
    "user_input6_pic2 = Image.open('Pictures\\\\user_input5_pic2.png')\n",
    "ui7_pic1 = Image.open('Pictures\\\\ui7_pic1.png')\n",
    "ui7_pic2 = Image.open('Pictures\\\\ui7_pic2.png')\n",
    "ui7_pic3 = Image.open('Pictures\\\\ui7_pic3.png')\n",
    "ui8_pic1 = Image.open('Pictures\\\\ui8_pic1.png')\n",
    "ui8_pic2 = Image.open('Pictures\\\\ui8_pic2.png')"
   ],
   "metadata": {
    "collapsed": false
   }
  },
  {
   "cell_type": "code",
   "execution_count": 48,
   "outputs": [],
   "source": [
    "def ColdFeedBatchPrep():\n",
    "    while True:\n",
    "        user_input = input(\"Do you know the file share directory? y/n or e to exit.\")\n",
    "        if user_input == 'y':\n",
    "            r_files_in_dir()\n",
    "            break\n",
    "        elif user_input == 'n':\n",
    "            print(\"Get the file share directory from the client and then re-run the program\")\n",
    "            break\n",
    "        elif user_input == 'e':\n",
    "            print(\"You are not exiting the program\")\n",
    "            break\n",
    "        else:\n",
    "            print(\"That was not one of the options, try again!\")"
   ],
   "metadata": {
    "collapsed": false
   }
  },
  {
   "cell_type": "code",
   "execution_count": 50,
   "outputs": [
    {
     "name": "stdout",
     "output_type": "stream",
     "text": [
      "\n",
      "            This is a cold feed issue. The document was processed by AXRM.\n",
      "            *Tips:\n",
      "                - The process for cold feed documents to get into Millennium:\n",
      "                    - client or third party sends the documents to the directory that will process the documents\n",
      "                    - AXRM will process the document and send the document to the upload application (ermx_auto or cdi_auto) listed in the report type properties setting.\n",
      "                    - Once in the auto queue, the batch indexing service will process the documents.\n",
      "                        - If successful, the document should appear in Millennium\n",
      "                        - If batch indexing failed the document, you can find the document in cer_batchindex.\n",
      "                - Each report type has it's own script that it uses to read the file names, and its own logs.\n",
      "                    - You can usually find these scripts and logs in C:\\ERMXData\\Scripts and C:\\ERMXData\\RPWorking, respectively.\n",
      "                - ERMX can only process one directory at a time. If there are documents in different directories, ERMX will process one directory until all the files have been processed, before moving on to the next directory.\n",
      "            *Useful wikis:\n",
      "                - Helpful to learn how to set up the report types and any setting configuration. If documents are failing in AXRM, it is useful to go through the settings for the report type to make sure nothing is misconfigured.\n",
      "                    - https://wiki.cerner.com/display/Content360/COLD+Feeds%3A+Build%2C+Configure%2C+Troubleshoot\n",
      "                - Useful information to learn how to read the scripts that AXRM uses to process the documents.\n",
      "                    - https://wiki.cerner.com/display/Content360/COLD+Feed+Scripting+Examples\n",
      "        \n",
      "\n",
      "                - If the document never made it to Millennium, start at the beginning of the process mentioned earlier.\n",
      "                - Go to the file directory that the files were sent to.\n",
      "                \n",
      "\n",
      "            - This means that the files were processed successfully.\n",
      "            - Now that we know that the files processed through, we need to go to the next step of the cold feed process.\n",
      "            - After the files get processed in AXRM, they are sent to the ERMX_AUTO, CDI_AUTO, or CEROTG queue, depending on if the client is single app architecture or the legacy architecture.\n",
      "            - Go to the report types, right-click on the report type you've been working on and go to upload. You will see the queue that these documents were sent to.\n",
      "            \n",
      "Open up Document manager on the ERMX server and run a blank query for the auto queue the files are being sent to, to see if the files are in there.\n"
     ]
    }
   ],
   "source": [
    "ColdFeedBatchPrep()"
   ],
   "metadata": {
    "collapsed": false
   }
  },
  {
   "cell_type": "code",
   "execution_count": 42,
   "outputs": [],
   "source": [
    "def r_files_in_dir():\n",
    "    while True:\n",
    "        user_input1 = input(\"\"\"\n",
    "                You need to figure out which application is processing these.\n",
    "                There are two ways to figure out if Batch Prep or AXRM processed these documents.\n",
    "                Go to the directory the client provided.\n",
    "                Are there files ending in .error or .parse in the directory? y/n or e to exit.\n",
    "                \"\"\")\n",
    "        if user_input1 == 'y':\n",
    "            user_input1_pic1.show()\n",
    "            print(\"\"\"\n",
    "                    'In the screenshot:\n",
    "                    Yellow highlight:\n",
    "                      - This is the file directory.\n",
    "                      - This should match with the file directory the client gave you earlier.\n",
    "                    Blue highlight:\n",
    "                      - This is how batch prep is going to read the files.\n",
    "                      - The selection in the screenshot is for file names\n",
    "                    Green highlight\n",
    "                      - This is the filename format.\n",
    "                      - The filename should be:\n",
    "                        - batchclass_batchname_createdate_createtime_mrn_FIN_docalias_provider_trackingnbr'\n",
    "                    \"\"\")\n",
    "            print(\"\"\"\n",
    "                    Known Defects with Batch Prep:\n",
    "                        – update the Source directory for Batch Prep on hsalbatch04. I am getting a message stating \"Check the required fields\".\n",
    "                            -https://jira2.cerner.com/browse/DOCIMAGING-13599\n",
    "                    \"\"\")\n",
    "\n",
    "            break\n",
    "        elif user_input1 == 'n':\n",
    "            axrm_file_extension()\n",
    "            break\n",
    "        elif user_input1 == 'e':\n",
    "            print(\"You are not exiting the program\")\n",
    "            break\n",
    "        else:\n",
    "            print(\"That was not one of the options, try again!\")\n",
    "        break"
   ],
   "metadata": {
    "collapsed": false
   }
  },
  {
   "cell_type": "code",
   "execution_count": 43,
   "outputs": [],
   "source": [
    "def batch_prep_filename_values():\n",
    "    while True:\n",
    "        user_input2 = input(\"\"\"\n",
    "        This is a batch prep issue.\n",
    "        Find out where batch prep is running (ERMX, ACIS, or Batch server).\n",
    "        Once you have found the server running Batch Prep,\n",
    "            - open CDIConfig,\n",
    "            - go to the services tab select the batch prep service, and open up the advanced settings\n",
    "\n",
    "        Does the filename and Batch Prep settings in CDIConfig match? y/n or e to exit\n",
    "        \"\"\")\n",
    "        if user_input2 == 'y':\n",
    "            print(\"\"\"\n",
    "            Something else is causing the files to fail.\n",
    "            To figure out the reason, delete the .error at the end of the file and let batch prep reprocess the document.\n",
    "                - Once you delete the .error, hit the start menu and search for 'msgviewwin' and open up the application.\n",
    "                - When open, hit file -> load private file -> select cdi.mlg file.\n",
    "                - When batch prep processes the document and it fails, you should see the error message in the cdi.mlg file and that will help you figure out what's going on with the service\n",
    "            \"\"\")\n",
    "            print(\"\"\"\n",
    "            Some error messages I've seen:\n",
    "                - An unknown error (#5) has occurred querying service CDI_BatchIndexSvc. Access is denied\n",
    "                    - https://dragondrop.cerner.com/615853-millennium-cerner-document-imaging-cdiconfig-access-denied-2\n",
    "                - Access Denied\n",
    "                    - Check the PDF's security settings; the settings could be preventing the prep service to process the document.\n",
    "                - Wrong file format\n",
    "                    - For example, I had a ticket where they sent word documents instead of PDFs. Batch Prep can't process word documents.\n",
    "                - The batch preparation service failed to lock file '<some file name>_Endo_Cart\\dmag.xml'\n",
    "                    - SR 447015418\n",
    "                        - Two folders were processed, and someone resent the same folders, causing the issue. When batch prep tried to process the duplicate folders, it couldn't rename the folder to .done since it already existed. i removed the duplicate folders, and the other batches started processing.\n",
    "            \"\"\")\n",
    "            break\n",
    "        elif user_input2 == 'n':\n",
    "            print(\"\"\"\n",
    "                            This is the issue.\n",
    "                            Make sure the settings line up with the document filename being processed.\n",
    "                            \"\"\")\n",
    "            break\n",
    "        elif user_input2 == 'e':\n",
    "            print(\"You are not exiting the program\")\n",
    "            break\n",
    "        else:\n",
    "            print('Please enter y for yes, n for no, or e to exit program.')"
   ],
   "metadata": {
    "collapsed": false
   }
  },
  {
   "cell_type": "code",
   "execution_count": 44,
   "outputs": [],
   "source": [
    "def axrm_failedpdf():\n",
    "    while True:\n",
    "        user_input3_1 = input(\"\"\"\n",
    "            Go to ermx server and open AXRM (ApplicationXtenderReportsMgmtAdmin) and go to Report Processors -> local computer -> configuration -> report sources\n",
    "            Do you see the directory in question inside AXRM? y/n or e to exit.\n",
    "            \"\"\")\n",
    "        if user_input3_1 == 'y':\n",
    "            axrm_batchprep_main_issues()\n",
    "            break\n",
    "        elif user_input3_1 == 'n':\n",
    "            batch_prep_filename_values()\n",
    "            break\n",
    "        elif user_input3_1 == 'e':\n",
    "            print(\"You are not exiting the program\")\n",
    "            break\n",
    "        else:\n",
    "            print('Please enter y for yes, n for no, or e to exit program.')"
   ],
   "metadata": {
    "collapsed": false
   }
  },
  {
   "cell_type": "code",
   "execution_count": 45,
   "outputs": [],
   "source": [
    "def axrm_file_extension():\n",
    "    while True:\n",
    "        user_input3 = input(\"Are there files ending in .failedpdf or .cxpdf? y/n or e to exit.\")\n",
    "        if user_input3 == 'y':\n",
    "            print(\"\"\"\n",
    "            This is a cold feed issue. The document was processed by AXRM.\n",
    "            *Tips:\n",
    "                - The process for cold feed documents to get into Millennium:\n",
    "                    - client or third party sends the documents to the directory that will process the documents\n",
    "                    - AXRM will process the document and send the document to the upload application (ermx_auto or cdi_auto) listed in the report type properties setting.\n",
    "                    - Once in the auto queue, the batch indexing service will process the documents.\n",
    "                        - If successful, the document should appear in Millennium\n",
    "                        - If batch indexing failed the document, you can find the document in cer_batchindex.\n",
    "                - Each report type has it's own script that it uses to read the file names, and its own logs.\n",
    "                    - You can usually find these scripts and logs in C:\\ERMXData\\Scripts and C:\\ERMXData\\RPWorking, respectively.\n",
    "                - ERMX can only process one directory at a time. If there are documents in different directories, ERMX will process one directory until all the files have been processed, before moving on to the next directory.\n",
    "            *Useful wikis:\n",
    "                - Helpful to learn how to set up the report types and any setting configuration. If documents are failing in AXRM, it is useful to go through the settings for the report type to make sure nothing is misconfigured.\n",
    "                    - https://wiki.cerner.com/display/Content360/COLD+Feeds%3A+Build%2C+Configure%2C+Troubleshoot\n",
    "                - Useful information to learn how to read the scripts that AXRM uses to process the documents.\n",
    "                    - https://wiki.cerner.com/display/Content360/COLD+Feed+Scripting+Examples\n",
    "        \"\"\")\n",
    "            axrm_batchprep_main_issues()\n",
    "            break\n",
    "        elif user_input3 == 'n':\n",
    "            axrm_failedpdf()\n",
    "            break"
   ],
   "metadata": {
    "collapsed": false
   }
  },
  {
   "cell_type": "code",
   "execution_count": 46,
   "outputs": [],
   "source": [
    "def axrm_batchprep_main_issues():\n",
    "    while True:\n",
    "        try:\n",
    "            user_input4 = int(input(\"\"\"\n",
    "                                    This is a cold feed issue. The document was processed by AXRM.\n",
    "                                    *Tips:\n",
    "                                    - The process for cold feed documents to get into Millennium:\n",
    "                                        - client or third party sends the documents to the directory that will process the documents\n",
    "                                        - AXRM will process the document and send the document to the upload application (ermx_auto or cdi_auto) listed in the report type properties setting.\n",
    "                                        - Once in the auto queue, the batch indexing service will process the documents.\n",
    "                                            - If successful, the document should appear in Millennium\n",
    "                                            - If batch indexing failed the document, you can find the document in cer_batchindex.\n",
    "                                    - Each report type has it's own script that it uses to read the file names, and its own logs.\n",
    "                                        - You can usually find these scripts and logs in C:\\ERMXData\\Scripts and C:\\ERMXData\\RPWorking, respectively.\n",
    "                                    - ERMX can only process one directory at a time. If there are documents in different directories, ERMX will process one directory until all the files have been processed, before moving on to the next directory.\n",
    "                                    *Useful wikis:\n",
    "                                    - Helpful to learn how to set up the report types and any setting configuration. If documents are failing in AXRM, it is useful to go through the settings for the report type to make sure nothing is misconfigured.\n",
    "                                        - https://wiki.cerner.com/display/Content360/COLD+Feeds%3A+Build%2C+Configure%2C+Troubleshoot\n",
    "                                    - Useful information to learn how to read the scripts that AXRM uses to process the documents.\n",
    "                                        - https://wiki.cerner.com/display/Content360/COLD+Feed+Scripting+Examples\n",
    "\n",
    "                                    What is the issue? Select:\n",
    "                                    1 - Documents not making it into Millennium/Documents not in patient's chart.\n",
    "                                    2 - Cold feed documents failing to cer_batchindex.\n",
    "                                    3 - Duplicate cold feed documents in Millennium.\n",
    "                                    0 - to exit\n",
    "                                    \"\"\"))\n",
    "            if user_input4 == 1:\n",
    "                print(\"\"\"\n",
    "                - If the document never made it to Millennium, start at the beginning of the process mentioned earlier.\n",
    "                - Go to the file directory that the files were sent to.\n",
    "                \"\"\")\n",
    "                ui5()\n",
    "            elif user_input4 == 2:\n",
    "                print(\"\"\"\n",
    "                - To figure out why the documents failed, grab one of the blob handles, go to a Citrix server, open discernvisualdeveloper and search for the blob handle in the trans log or pending document table.\n",
    "                    - Select *\n",
    "                      From cdi_trans_log c\n",
    "                      Where c.blob_handle = '[put blob handle here and erase the #1.00 at the end]*'\n",
    "                      With uar_code(m,d)\n",
    "                - Find the MAN_QUEUE_CAT_CD and MAN_QUEUE_ERR_CD fields to see the reason why the document failed.\n",
    "                 \"\"\")\n",
    "                print(\"\"\"\n",
    "                Common errors:\n",
    "                    - DOS error:\n",
    "                        - The date of service is not between the allotted time range set inside CDIConfig -> Event Validation.\n",
    "                        -The screenshot below reads as followed\n",
    "                            - The DOS sent with the document looks for the 'Discharge date' for the encounter, if that's not available, it will look for the 'admit date' and so on.\n",
    "                        - If the document is failing due to DOS, then the DOS is outside the 720 days in the past or future from the discharge date.\n",
    "                \"\"\")\n",
    "                ui8_pic1.show()\n",
    "                print(\"\"\"\n",
    "                - Encounter error:\n",
    "                    - The batch indexing service couldn't match a patient with the MRN, and FIN.\n",
    "                    - The MRN, FIN, or both are incorrect.\n",
    "                    - To test, go to powerchart and search for the MRN.\n",
    "                        - If a patient comes up, add the FIN number and search again.\n",
    "                            - If a patient comes up, then make sure this is an active MRN and FIN.\n",
    "                                - Tips:\n",
    "                                    - MRNs inside of a paratheses (MRN), then its not an active MRN\n",
    "                                    - I believe this goes for FINs also, but not 100%\n",
    "                            - If a patient doesn't come up after you search for the MRN and FIN together, then search only using the FIN number\n",
    "                                - If the FIN number doesn't find a patient, the FIN is wrong.\n",
    "                            - If no patient comes up, then the MRN is wrong.\n",
    "                - Versioning error:\n",
    "                    - The document that was processed matched another document currently inside Millennium, which caused it to fail.\n",
    "                    - In CDIConfig -> Event Validation, the 'Versioning Match Fields' section shows what the Batch Indexing service is searching for to see if this is a duplicate/different version of a document.\n",
    "                \"\"\")\n",
    "                ui8_pic2.show()\n",
    "                break\n",
    "            elif user_input4 == 3:\n",
    "                print(\"\"\"\n",
    "                - There are a couple of defects with the old legacy architecture that cause duplicate documents.\n",
    "                    1. AXRM or AX Release script is still writing a document to a CDI_AUTO application, Batch Index service may find the document, successfully index it and copy it to CEROTG, and create the Millennium references to it. But then the delete from the auto queue will fail because the document is still locked in the sending system.\n",
    "                        - https://jira2.cerner.com/browse/DOCIMAGING-12278\n",
    "                    2. Versioned documents with performing provider remain in Batch Index queue\n",
    "                        - https://jira2.cerner.com/browse/DOCIMAGING-13271?filter=70688&jql=project%20in%20(PATESIG%2C%20EDM%2C%20DOCIMAGING)%20AND%20issuetype%20%3D%20Defect%20AND%20text%20~%20%22batch%20indexing%20auto%22%20ORDER%20BY%20created%20DESC\n",
    "                    3. Auto-versioning fails if the incoming document doesn't have a blob handle and blob_uid is required in CEROTG\n",
    "                        -https://jira2.cerner.com/browse/DOCIMAGING-10892\n",
    "                \"\"\")\n",
    "                break\n",
    "            elif user_input4 == 0:\n",
    "                print(\"You are exiting this program.\")\n",
    "                break\n",
    "            else:\n",
    "                print(\"That was not one of the options, try again!\")\n",
    "            break\n",
    "        except:\n",
    "            print(\"Invalid input. Please enter a number\")"
   ],
   "metadata": {
    "collapsed": false
   }
  },
  {
   "cell_type": "code",
   "execution_count": 47,
   "outputs": [
    {
     "name": "stdout",
     "output_type": "stream",
     "text": [
      "Invalid input. Please enter a number\n",
      "You are exiting this program.\n"
     ]
    }
   ],
   "source": [
    "axrm_batchprep_main_issues()"
   ],
   "metadata": {
    "collapsed": false
   }
  },
  {
   "cell_type": "code",
   "execution_count": 28,
   "outputs": [],
   "source": [
    "def ui5():\n",
    "    while True:\n",
    "        user_input5 = input(\"Do you see the files ending with .failedpdf? y/n or e for exit.\")\n",
    "        if user_input5 == 'y':\n",
    "            print(\"\"\"\n",
    "            The AXRM files failed.\n",
    "            Find out why the docuemtns failed.\n",
    "            Go to the report logs and select report type that is failing\n",
    "            \"\"\")\n",
    "            user_input5_pic1.show()\n",
    "            print(\"In the report logs, open one of the failed logs to see the error\")\n",
    "            user_input5_pic2.show()\n",
    "            print(\"\"\"\n",
    "            The error in the screenshot above:\n",
    "                - ERROR\t12/7/2022 16:55:20\tINDEXING Validation error. Page 1: Invalid field value. Field: DATE_OF_SERVICE -- 15/47/\n",
    "                - This error means that the file name format doesn't match the way the script is reading the filename. You will need to go look at the script and see what is wrong with the filename format.\n",
    "                - https://dragondrop.cerner.com/1351526-cold-feed-failing-due-to-error-with-dos-but-dont-see-what-the-problem-is\n",
    "            \"\"\")\n",
    "            print(\"\"\"\n",
    "            Other possible error messages:\n",
    "                - ERROR 8/2/2006 12:56:57 STORAGE This AX application is currently being modified by another user.\n",
    "                    - https://dragondrop.cerner.com/98825-millennium-cerner-document-imaging-armx-not-processing-reports\n",
    "                    - https://jira2.cerner.com/browse/DOCIMAGING-11231\n",
    "                - ERROR5/18/2017 07:24:11INDEXINGNo index records created. Report processing failed\n",
    "                    - https://dragondrop.cerner.com/339628-millennium-cerner-document-imaging-file-fails-to-process-in-cold-feed\n",
    "                - ERROR 10/7/2019 12:49:40 UPLOAD Can't create PDF file. This operation is not permitted.\n",
    "                    - https://dragondrop.cerner.com/1235754-axrm-cold-feed-unable-to-process-pdfs-with-security\n",
    "                - ERROR\t5/25/2022 09:45:28\tINDEXING\tValidation error. Page 1: Invalid field value. Field: TRACKING_NBR -- 10277729_10710963_20220517180201960_F_IRFPAI_F_IRFPAI\n",
    "                    - The filename was being entered for the tracking number, but the filename was too big for the field, causing the documents to fail.\n",
    "                    - We changed the tracking number variable from the filename to the MRN + Encounter, and it processed through successfully.\n",
    "                - ERROR\t3/29/2022 13:55:27\tINDEXING\tIncorrect application fields\n",
    "                    - SR 442650237\n",
    "                        - The 'BREEZE' report type was set to PFT_AUTO instead of CDI_ERMX, causing the data fields not to match up.\n",
    "                        - I changed the upload database from PFT_AUTO to CDI_ERMX, updated the data fields, and documents started to process correctly\n",
    "            \"\"\")\n",
    "            break\n",
    "        elif user_input5 == 'n':\n",
    "            ui6()\n",
    "            break\n",
    "        elif user_input5 == 'e':\n",
    "            print(\"You are exiting this program.\")\n",
    "            break\n",
    "        else:\n",
    "            print(\"That was not one of the options, try again!\")"
   ],
   "metadata": {
    "collapsed": false
   }
  },
  {
   "cell_type": "code",
   "execution_count": 31,
   "outputs": [
    {
     "name": "stdout",
     "output_type": "stream",
     "text": [
      "You are exiting this program.\n"
     ]
    }
   ],
   "source": [
    "ui5()"
   ],
   "metadata": {
    "collapsed": false
   }
  },
  {
   "cell_type": "code",
   "execution_count": 27,
   "outputs": [],
   "source": [
    "def ui6():\n",
    "    while True:\n",
    "        user_input6 = input(\"Do you see the files there with a .cxpdf ending? y/n or e for exit.\")\n",
    "        if user_input6 == 'y' or user_input6 == 'n':\n",
    "            print(\"\"\"\n",
    "            - This means that the files were processed successfully.\n",
    "            - Now that we know that the files processed through, we need to go to the next step of the cold feed process.\n",
    "            - After the files get processed in AXRM, they are sent to the ERMX_AUTO, CDI_AUTO, or CEROTG queue, depending on if the client is single app architecture or the legacy architecture.\n",
    "            - Go to the report types, right-click on the report type you've been working on and go to upload. You will see the queue that these documents were sent to.\n",
    "            \"\"\")\n",
    "            user_input6_pic1.show()\n",
    "            print(\"Open up Document manager on the ERMX server and run a blank query for the auto queue the files are being sent to, to see if the files are in there.\")\n",
    "            user_input6_pic2.show()\n",
    "            break\n",
    "        elif user_input6 == 'e':\n",
    "            print(\"You are exiting this program.\")\n",
    "            break\n",
    "        else:\n",
    "            print(\"That was not one of the options, try again!\")"
   ],
   "metadata": {
    "collapsed": false
   }
  },
  {
   "cell_type": "code",
   "execution_count": 26,
   "outputs": [
    {
     "name": "stdout",
     "output_type": "stream",
     "text": [
      "\n",
      "            - This means that the files were processed successfully.\n",
      "            - Now that we know that the files processed through, we need to go to the next step of the cold feed process.\n",
      "            - After the files get processed in AXRM, they are sent to the ERMX_AUTO, CDI_AUTO, or CEROTG queue, depending on if the client is single app architecture or the legacy architecture.\n",
      "            - Go to the report types, right-click on the report type you've been working on and go to upload. You will see the queue that these documents were sent to.\n",
      "            \n",
      "Open up Document manager on the ERMX server and run a blank query for the auto queue the files are being sent to, to see if the files are in there.\n",
      "\n",
      "            - This means that the files were processed successfully.\n",
      "            - Now that we know that the files processed through, we need to go to the next step of the cold feed process.\n",
      "            - After the files get processed in AXRM, they are sent to the ERMX_AUTO, CDI_AUTO, or CEROTG queue, depending on if the client is single app architecture or the legacy architecture.\n",
      "            - Go to the report types, right-click on the report type you've been working on and go to upload. You will see the queue that these documents were sent to.\n",
      "            \n",
      "Open up Document manager on the ERMX server and run a blank query for the auto queue the files are being sent to, to see if the files are in there.\n",
      "\n",
      "            - This means that the files were processed successfully.\n",
      "            - Now that we know that the files processed through, we need to go to the next step of the cold feed process.\n",
      "            - After the files get processed in AXRM, they are sent to the ERMX_AUTO, CDI_AUTO, or CEROTG queue, depending on if the client is single app architecture or the legacy architecture.\n",
      "            - Go to the report types, right-click on the report type you've been working on and go to upload. You will see the queue that these documents were sent to.\n",
      "            \n",
      "Open up Document manager on the ERMX server and run a blank query for the auto queue the files are being sent to, to see if the files are in there.\n",
      "You are exiting this program.\n"
     ]
    }
   ],
   "source": [
    "ui6()"
   ],
   "metadata": {
    "collapsed": false
   }
  },
  {
   "cell_type": "code",
   "execution_count": 23,
   "outputs": [],
   "source": [
    "def auto_man_queues():\n",
    "    while True:\n",
    "        user_input7 = input(\"Do you see the documents inside the AUTO queue? y/n or e for exit.\")\n",
    "        if user_input7 == 'y':\n",
    "            print(\"\"\"\n",
    "            - If the documents in the AUTO queue, there are two main reasons that documents get stuck in the AUTO queue.\n",
    "                1. The batch indexing service pointing to this AUTO queue isn't on, so the documents aren't processing.\n",
    "                    - Go look for the batch indexing service pointing to this queue.\n",
    "                    - You can find the batch indexing services two ways.\n",
    "                        i. Go to the servers they might be on, which are the ACIS, or document imaging (batch) servers.\n",
    "                        ii. Go to discernvisualdeveloper on a Citrix server and run this script.\n",
    "                            - 'SELECT A.APPLCTX, A.APPLICATION_DIR, A.APPLICATION_IMAGE, A.APPLICATION_NUMBER\n",
    "                                    , A.APPLICATION_STATUS, A.APPLICATION_VERSION\n",
    "                                    , A.APP_CTX_ID, A.AUTHORIZATION_IND\n",
    "                                    , A.CLIENT_NODE_NAME, A.CLIENT_START_DT_TM, A.CLIENT_TZ, A.DEFAULT_LOCATION\n",
    "                                    , A.DEVICE_ADDRESS, A.DEVICE_LOCATION, A.END_DT_TM, A.LOGDIRECTORY\n",
    "                                    , A.NAME, A.PARMS_FLAG, A.PERSON_ID, A_POSITION_DISP = UAR_GET_CODE_DISPLAY(A.POSITION_CD)\n",
    "                                    , A.ROWID, A.START_DT_TM, A.TCPIP_ADDRESS, A.UPDT_APPLCTX\n",
    "                                    , A.UPDT_CNT, A.UPDT_DT_TM, A.UPDT_ID\n",
    "                                    , A.UPDT_TASK, A.USERNAME\n",
    "                            FROM APPLICATION_CONTEXT A\n",
    "                            WHERE A.APPLICATION_NUMBER = 4273000\n",
    "                            WITH NOCOUNTER, SEPARATOR=\" \", FORMAT, MAXREC = 100'\n",
    "                    - Log into the server and make sure the service is on. open up the 'services' app, and CDIConfig.\n",
    "                        - Inside the 'services' app, look to see if the batch indexing service is turned on and running with the cernerasp\\<client nmemonic>cpdisvc account.\n",
    "                            - Side note, some clients have a different cpdisvc account, such as tssocd-ssocdcpdisvc. It's not always cernerasp\n",
    "                            - If it is running with correct log in info, this is not the issue.\n",
    "            \"\"\")\n",
    "            ui7_pic1.show()\n",
    "            print(\"\"\"\n",
    "            - Inside CDIConfig go to services, and select batch indexing.\n",
    "            - Make sure there is a batch indexing service pointing to the correct auto queue.\n",
    "            \"\"\")\n",
    "            ui7_pic2.show()\n",
    "            print(\"Notice how in the services tab there are multiple batch indexing services. You can look at each of the indexing services' setting by hitting the dropdown and going through each service. The names line up with each other.\")\n",
    "            ui7_pic3.show()\n",
    "            print(\"\"\"\n",
    "            2. There are a couple of defects with the old legacy architecture.\n",
    "                i. AXRM or AX Release script is still writing a document to a CDI_AUTO application, Batch Index service may find the document, successfully index it and copy it to CEROTG, and create the Millennium references to it. But then the delete from the auto queue will fail because the document is still locked in the sending system.\n",
    "                    - https://jira2.cerner.com/browse/DOCIMAGING-12278\n",
    "                ii. Versioned documents with performing provider remain in Batch Index queue\n",
    "                    - https://jira2.cerner.com/browse/DOCIMAGING-13271?filter=70688&jql=project%20in%20(PATESIG%2C%20EDM%2C%20DOCIMAGING)%20AND%20issuetype%20%3D%20Defect%20AND%20text%20~%20%22batch%20indexing%20auto%22%20ORDER%20BY%20created%20DESC\n",
    "                iii. Auto-versioning fails if the incoming document doesn't have a blob handle and blob_uid is required in CEROTG\n",
    "                    -https://jira2.cerner.com/browse/DOCIMAGING-10892\n",
    "            \"\"\")\n",
    "            break\n",
    "        elif user_input7 == 'n':\n",
    "            print(\"\"\"\n",
    "            - This means that the documents were processed by the batch indexing service.\n",
    "                - The documents now will either be in the manual queue (legacy architecture) or CEROTG (single app architecture)\n",
    "                - Processed successfully into Millennium.\n",
    "            - To determine what happened,\n",
    "                -In Document manager, run a blank query against all of the man queues to see if there are any documents inside of those queues.\n",
    "            \"\"\")\n",
    "            break\n",
    "        elif user_input7 == 'e':\n",
    "            print(\"You are exiting this program.\")\n",
    "            break\n",
    "        else:\n",
    "            print(\"That was not one of the options, try again!\")"
   ],
   "metadata": {
    "collapsed": false
   }
  },
  {
   "cell_type": "code",
   "execution_count": 24,
   "outputs": [
    {
     "name": "stdout",
     "output_type": "stream",
     "text": [
      "\n",
      "            - This means that the documents were processed by the batch indexing service.\n",
      "                - The documents now will either be in the manual queue (legacy architecture) or CEROTG (single app architecture)\n",
      "                - Processed successfully into Millennium.\n",
      "            - To determine what happened,\n",
      "                -In Document manager, run a blank query against all of the man queues to see if there are any documents inside of those queues.\n",
      "            \n"
     ]
    }
   ],
   "source": [
    "auto_man_queues()"
   ],
   "metadata": {
    "collapsed": false
   }
  },
  {
   "cell_type": "code",
   "execution_count": 18,
   "outputs": [],
   "source": [
    "def ui8():\n",
    "    while True:\n",
    "        ui8 = input(\"Are there documents in the MAN queue? y/n or e to exit.\")\n",
    "        if ui8 == 'y':\n",
    "            print(\"\"\"\n",
    "            - To figure out why the documents failed, grab one of the blob handles, go to a Citrix server, open discernvisualdeveloper and search for the blob handle in the trans log or pending document table.\n",
    "                - Select *\n",
    "                  From cdi_trans_log c\n",
    "                  Where c.blob_handle = '[put blob handle here and erase the #1.00 at the end]*'\n",
    "                  With uar_code(m,d)\n",
    "            - Find the MAN_QUEUE_CAT_CD and MAN_QUEUE_ERR_CD fields to see the reason why the document failed.\n",
    "            \"\"\")\n",
    "            print(\"\"\"\n",
    "            Common errors:\n",
    "                - DOS error:\n",
    "                    - The date of service is not between the allotted time range set inside CDIConfig -> Event Validation.\n",
    "                    -The screenshot below reads as followed\n",
    "                        - The DOS sent with the document looks for the 'Discharge date' for the encounter, if that's not available, it will look for the 'admit date' and so on.\n",
    "                    - If the document is failing due to DOS, then the DOS is outside the 720 days in the past or future from the discharge date.\n",
    "            \"\"\")\n",
    "            ui8_pic1.show()\n",
    "            print(\"\"\"\n",
    "            - Encounter error:\n",
    "                - The batch indexing service couldn't match a patient with the MRN, and FIN.\n",
    "                - The MRN, FIN, or both are incorrect.\n",
    "                - To test, go to powerchart and search for the MRN.\n",
    "                    - If a patient comes up, add the FIN number and search again.\n",
    "                        - If a patient comes up, then make sure this is an active MRN and FIN.\n",
    "                            - Tips:\n",
    "                                - MRNs inside of a paratheses (MRN), then its not an active MRN\n",
    "                                - I believe this goes for FINs also, but not 100%\n",
    "                        - If a patient doesn't come up after you search for the MRN and FIN together, then search only using the FIN number\n",
    "                            - If the FIN number doesn't find a patient, the FIN is wrong.\n",
    "                        - If no patient comes up, then the MRN is wrong.\n",
    "            - Versioning error:\n",
    "                - The document that was processed matched another document currently inside Millennium, which caused it to fail.\n",
    "                - In CDIConfig -> Event Validation, the 'Versioning Match Fields' section shows what the Batch Indexing service is searching for to see if this is a duplicate/different version of a document.\n",
    "            \"\"\")\n",
    "            ui8_pic2.show()\n",
    "            break\n",
    "        elif ui8 == 'n':\n",
    "            print(\"\"\"\n",
    "            - Go check the trans log and pending document table to see if you can find the batch.\n",
    "                - If there are no transaction logging for this batch, check to see if the transaction logging is turned on in CDIConfig.\n",
    "            - Go check PowerChart to see if you can find the document.\n",
    "                - The document could be uploaded to a different day than it was processed,  so it can seem like the image isn't on the chart, but it is there, just not where the user was looking.\n",
    "            \"\"\")\n",
    "            break\n",
    "        elif ui8 == 'e':\n",
    "            print(\"You are exiting this program.\")\n",
    "            break\n",
    "        else:\n",
    "            print(\"That was not one of the options, try again!\")"
   ],
   "metadata": {
    "collapsed": false
   }
  },
  {
   "cell_type": "code",
   "execution_count": 19,
   "outputs": [
    {
     "name": "stdout",
     "output_type": "stream",
     "text": [
      "That was not one of the options, try again!\n",
      "That was not one of the options, try again!\n",
      "That was not one of the options, try again!\n",
      "You are exiting this program.\n"
     ]
    }
   ],
   "source": [
    "ui8()"
   ],
   "metadata": {
    "collapsed": false
   }
  },
  {
   "cell_type": "code",
   "execution_count": null,
   "outputs": [],
   "source": [],
   "metadata": {
    "collapsed": false
   }
  }
 ],
 "metadata": {
  "kernelspec": {
   "display_name": "Python 3",
   "language": "python",
   "name": "python3"
  },
  "language_info": {
   "codemirror_mode": {
    "name": "ipython",
    "version": 2
   },
   "file_extension": ".py",
   "mimetype": "text/x-python",
   "name": "python",
   "nbconvert_exporter": "python",
   "pygments_lexer": "ipython2",
   "version": "2.7.6"
  }
 },
 "nbformat": 4,
 "nbformat_minor": 0
}
